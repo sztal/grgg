{
 "cells": [
  {
   "cell_type": "code",
   "execution_count": 1,
   "metadata": {},
   "outputs": [],
   "source": [
    "from math import isclose\n",
    "from grgg import GRGG, Complementarity, Similarity, options"
   ]
  },
  {
   "cell_type": "markdown",
   "metadata": {},
   "source": [
    " # Tutorial\n",
    "\n",
    " This notebook provides a brief introduction to the `grgg` package\n",
    " implementing the Generalized Random Geometric Graph (GRGG) model.\n",
    " The tutorial is quite similar to the examples that can be found in the\n",
    " in the docstring of the `GRGG` class, but provides a somewhat more detailed\n",
    " discussion of the model. On the other hand, the docstring covers few more\n",
    " esoteric features of the package."
   ]
  },
  {
   "cell_type": "code",
   "execution_count": 2,
   "metadata": {},
   "outputs": [
    {
     "name": "stdout",
     "output_type": "stream",
     "text": [
      "\u001b[31mInit signature:\u001b[39m\n",
      "GRGG(\n",
      "    n_nodes: int,\n",
      "    manifold: grgg.manifolds.manifold.Manifold | int,\n",
      "    *kernels: grgg.kernels.AbstractGeometricKernel,\n",
      ") -> \u001b[38;5;28;01mNone\u001b[39;00m\n",
      "\u001b[31mDocstring:\u001b[39m     \n",
      "Generalized Random Geometric Graph Model.\n",
      "\n",
      "Attributes\n",
      "----------\n",
      "n_nodes\n",
      "    Number of nodes in the graph.\n",
      "manifold\n",
      "    Manifold on which the graph is defined.\n",
      "    Currently only :class:`grgg.manifolds.Sphere` is supported.\n",
      "    Can also be specified as an integer, which will be interpreted\n",
      "    as the surface dimension of a sphere with surface area equal to `n_nodes`.\n",
      "kernels\n",
      "    List of kernel functions defining the edge probabilities.\n",
      "rho\n",
      "    Sampling density, which is the ratio of the number of nodes\n",
      "    to the surface area of the manifold.\n",
      "\n",
      "Examples\n",
      "--------\n",
      "The model is initialized from a number of nodes and a manifold\n",
      "on which they will live (currently only spheres are supported).\n",
      "\n",
      ">>> from math import isclose\n",
      ">>> from grgg import GRGG, Sphere, Similarity, Complementarity\n",
      ">>> sphere = Sphere(2)  # unit sphere with 2-dimensional surface\n",
      ">>> model = GRGG(100, sphere)\n",
      "\n",
      "Note that in this case the sampling density, `rho`, is not equal to 1.\n",
      ">>> model.rho != 1\n",
      "True\n",
      "\n",
      "Alternatively, a model can be initialized by passing an integer\n",
      "specifying the surface dimension of a sphere instead of a full\n",
      "manifold instance. In this case, it is assumed that the sphere\n",
      "has a surface area equal to the number of nodes, so the sampling density\n",
      "is always 1. This is the most typical way to initialize the model.\n",
      ">>> model = GRGG(100, 2)\n",
      ">>> model.rho\n",
      "1.0\n",
      "\n",
      "For the model to be useful, we need to add kernel functions that define the edge\n",
      "probabilities. This can be done using the `add_kernel` method. The kernel functions\n",
      "must inherit from :class:`grgg.kernels.AbstractGeometricKernel`.\n",
      "\n",
      "Below is an example of how to add a :class:`grgg.kernels.Similarity` kernel with\n",
      "default parameters. The kernel is added in place, but the method also returns the\n",
      "reference to the model itself, so multiple invocations can be chained.\n",
      ">>> model.add_kernel(Similarity)\n",
      "GRGG(100, Sphere(...), Similarity(..., logspace=True))\n",
      "\n",
      "Note the 'logspace=True' parameter, which is the default for all kernels.\n",
      "This means that the kernel will use logarithmic distance-relations to allow for\n",
      "small-world effects. If you want to disable this behavior, you can pass\n",
      "'logspace=False' to the kernel constructor, or set it globally using the `options`\n",
      "module.\n",
      "\n",
      ">>> from grgg import options\n",
      ">>> options.kernel.logspace = False  # disable logarithmic distance for all kernels\n",
      ">>> model.add_kernel(Similarity)\n",
      "GRGG(100, Sphere(2, r=...), Similarity(mu=..., beta=3.0, logspace=False))\n",
      ">>> options.kernel.logspace = True  # restore default behavior\n",
      "\n",
      "Temporary options handling can be done more conveniently using the context manager.\n",
      ">>> with options:\n",
      "...     options.kernel.logspace = False\n",
      "...     model.add_kernel(Similarity)\n",
      "GRGG(100, Sphere(2, r=...), Similarity(mu=..., beta=3.0, logspace=False))\n",
      "\n",
      ">>> options.kernel.logspace\n",
      "True\n",
      "\n",
      "Now, it is typically more useful to add kernels with specific average degrees.\n",
      "This is done by passing the desired average degree as the first argument to the\n",
      ":meth:`add_kernel` method. The kernel will be calibrated to induce the desired\n",
      "average degree in the graph.\n",
      ">>> model = GRGG(100, 2).add_kernel(5, Similarity)\n",
      ">>> isclose(model.kbar, 5.0, rel_tol=1e-4)\n",
      "True\n",
      "\n",
      "Most importantly, the model can have multiple kernels,\n",
      "which allows for more complex edge probability distributions.\n",
      "For example, we can add a :class:`grgg.kernels.Complementarity`\n",
      "kernel with the same average degree.\n",
      "\n",
      ">>> model = model.add_kernel(5, Complementarity)\n",
      "\n",
      "This also gives us a good oportunity to note that, given a compound model,\n",
      "it is possible to get submodels with selected kernels using indexing.\n",
      "This allows us to see that the submodels indeed have the target average degree.\n",
      ">>> isclose(model[0].kbar, 5.0, rel_tol=1e-4)  # Similarity kernel\n",
      "True\n",
      ">>> isclose(model[1].kbar, 5.0, rel_tol=1e-4)  # Complementarity kernel\n",
      "True\n",
      "\n",
      "However, due to possible overlaps of the connections defined by different kernels,\n",
      "the average degree of the combined model may be lower than the sum of the average\n",
      "degrees of the submodels.\n",
      ">>> model.kbar < 10\n",
      "True\n",
      "\n",
      "To address this issue, the model provides a `calibrate` method,  which allows\n",
      "for adjusting the average degree of the model to a desired value. The method takes\n",
      "the desired average degree as the first argument, and an optional `weights`\n",
      "argument, which allows for setting the relative weights of the kernels in the model.\n",
      "If not provided, all kernels are treated equally.\n",
      "\n",
      ">>> model.calibrate(10).kbar  # calibrate the model to average degree of 10\n",
      "10.0\n",
      "\n",
      "Note that in this case both kernels induce the same average degree.\n",
      ">>> isclose(model[0].kbar, model[1].kbar, rel_tol=1e-4)\n",
      "True\n",
      "\n",
      "Here we calibrate to `kbar=10` while assuming that the second kernel\n",
      "(Complementarity) is twice as strong as the first one (Similarity).\n",
      ">>> model = model.calibrate(10, [1, 2])\n",
      ">>> isclose(10.0, model.kbar, rel_tol=1e-4)\n",
      "True\n",
      ">>> isclose(model[0].kbar, 3.3389203, rel_tol=1e-4) # Similarity kernel\n",
      "True\n",
      ">>> isclose(model[1].kbar, 6.6776256, rel_tol=1e-4) # Complementarity kernel\n",
      "True\n",
      "\u001b[31mFile:\u001b[39m           ~/Coding/python/grgg/grgg/model.py\n",
      "\u001b[31mType:\u001b[39m           type\n",
      "\u001b[31mSubclasses:\u001b[39m     "
     ]
    }
   ],
   "source": [
    "GRGG?"
   ]
  },
  {
   "cell_type": "markdown",
   "metadata": {},
   "source": [
    "## Model\n",
    "\n",
    "The GRGG model is a random geometric graph model that generalizes the\n",
    "classical random geometric graph model to allow for more complex  logic\n",
    "translating between relative nodes' positions and their edge probabilities.\n",
    "In particular, it allows for modeling both complementarity and similarity\n",
    "driven relationships.\n",
    "Like all random geometric graph, the GRGG model is defined on a metric space.\n",
    "However, in order to allow for complementarity-driven relationships, here we\n",
    "also assume that the metric space is compact, and asymptotically flat.\n",
    "Thus, most typically the GRGG model is defined either on a (hyper)sphere or a\n",
    "torus (currently only spheres are supported in the `grgg` package). In what follows,\n",
    "we will always assume that nodes live on a surface of a $k$-dimensional sphere with\n",
    "the surface area equal to the number of nodes. This means that the sphere is flat\n",
    "in the limit $n \\to \\infty$.\n",
    "\n",
    "\n",
    "\n",
    "This is how to create a GRGG model on a sphere with $n$ nodes\n",
    "and surface area equal to $n$:"
   ]
  },
  {
   "cell_type": "code",
   "execution_count": 4,
   "metadata": {},
   "outputs": [
    {
     "data": {
      "text/plain": [
       "GRGG(100, Sphere(2, r=2.82))"
      ]
     },
     "execution_count": 4,
     "metadata": {},
     "output_type": "execute_result"
    }
   ],
   "source": [
    "model = GRGG(100, 2) # n=100, k=2\n",
    "model"
   ]
  },
  {
   "cell_type": "code",
   "execution_count": 5,
   "metadata": {},
   "outputs": [
    {
     "data": {
      "text/plain": [
       "100.00000000000001"
      ]
     },
     "execution_count": 5,
     "metadata": {},
     "output_type": "execute_result"
    }
   ],
   "source": [
    "# Check that the surface area is correct\n",
    "model.manifold.surface_area"
   ]
  },
  {
   "cell_type": "markdown",
   "metadata": {},
   "source": [
    " ### Kernels\n",
    "\n",
    "However, in order to be useful for anything, the GRGG model has to be\n",
    "equipped with one or more kernel functions that define the rules\n",
    "translating between the nodes' positions and their edge probabilities.\n",
    "Traditionally, random geometric graphs implicitly assume similarity kernel,\n",
    "which means that the edge probability between two nodes is a decreasing function\n",
    "of the distance between them. In the GRGG model, we can go beyond that and define\n",
    "also complementarity kernels, which means that the edge probability\n",
    "between two nodes is an increasing function of the distance between them.\n",
    "But for this to make sense, the nodes have to be positioned on a compact manifold\n",
    "(e.g. a sphere or a torus), so that the maximum distance between two nodes is \n",
    "well-defined and finite. Last but not least, the GRGG model can combine multiple\n",
    "kernels (possibly with different strengths) to defined even more complex rules,\n",
    "in particular to model both complementarity and similarity driven relationships\n",
    "at the same time.\n",
    "\n",
    "The general form of the edge probability function is given by:\n",
    "$$\n",
    "p_{ij} = 1 - \\prod_{k=1}^K\\left[\n",
    "    1 - \\frac{1}{1 + e^{\\kappa_k(d_{ij}; \\theta_k)}}\n",
    "\\right]\n",
    "$$\n",
    "where $d_{ij}$ is a geodesic distance between nodes $i$ and $j$,\n",
    "$\\kappa_k$ is a kernel function, $\\theta_k$ is a set of parameters\n",
    "of $\\kappa_k$, and $K$ is the number of kernels. Importantly, the function\n",
    "is equivalent to the probability that at least one of the kernels indicates that \n",
    "the edge should exist. Moreover, it can be proved that, with an appropriate \n",
    "choice of kernel functions, this form of the edge probability function is a \n",
    "solution to a physically meaningful maximum entropy problem.\n",
    "\n",
    "#### Homogeneous kernels\n",
    "\n",
    "Currently, we consider two types of kernels inducing homogeneous (Poissonian)\n",
    "degree distributions:\n",
    "\n",
    "* **Similarity**\n",
    "  $$\\kappa_{s}(d_{ij}; \\mu, \\beta) = \\beta(d_{ij} - \\mu)$$\n",
    "* **Complementarity**\n",
    "  $$\\kappa_{c}(d_{ij}; \\mu, \\beta) = \\beta(d_{\\text{max}} - d_{ij} - \\mu)$$\n",
    "where $\\mu$ is a distance threshold, $\\beta$ controls the sharpness of the \n",
    "transition between low- and high-probability regions, and $d_{\\text{max}}$ is the \n",
    "maximum between two nodes on the manifold."
   ]
  },
  {
   "cell_type": "code",
   "execution_count": null,
   "metadata": {},
   "outputs": [],
   "source": []
  }
 ],
 "metadata": {
  "kernelspec": {
   "display_name": "Python 3",
   "language": "python",
   "name": "python3"
  },
  "language_info": {
   "codemirror_mode": {
    "name": "ipython",
    "version": 3
   },
   "file_extension": ".py",
   "mimetype": "text/x-python",
   "name": "python",
   "nbconvert_exporter": "python",
   "pygments_lexer": "ipython3",
   "version": "3.13.5"
  }
 },
 "nbformat": 4,
 "nbformat_minor": 2
}
